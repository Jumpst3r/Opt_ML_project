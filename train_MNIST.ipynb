{
 "cells": [
  {
   "cell_type": "code",
   "execution_count": 1,
   "metadata": {},
   "outputs": [],
   "source": [
    "import numpy as np\n",
    "import torch\n",
    "import torch.nn as nn\n",
    "import torch.nn.functional as F\n",
    "from torch import Tensor\n",
    "import torch.optim as optim\n",
    "import matplotlib.pyplot as plt\n",
    "import math\n",
    "from torchvision import datasets, transforms\n",
    "from torch.autograd import Variable\n",
    "from PSO import PSO\n",
    "from simple_cnn import simpleCNN\n",
    "import os\n",
    "os.environ[\"CUDA_VISIBLE_DEVICES\"] = \"1\""
   ]
  },
  {
   "cell_type": "code",
   "execution_count": 2,
   "metadata": {},
   "outputs": [
    {
     "name": "stdout",
     "output_type": "stream",
     "text": [
      "cuda:0\n"
     ]
    }
   ],
   "source": [
    "device = torch.device('cuda:0' if torch.cuda.is_available() else 'cpu')\n",
    "print(device)"
   ]
  },
  {
   "cell_type": "code",
   "execution_count": 3,
   "metadata": {},
   "outputs": [],
   "source": [
    "transform = transforms.Compose([\n",
    "transforms.ToTensor(), transforms.Normalize([0.5], [0.5])])\n",
    "data_train = datasets.MNIST(root = \"./data/\",\n",
    "                            transform=transform,\n",
    "                            train = True,\n",
    "                            download = True)\n",
    "\n",
    "data_test = datasets.MNIST(root=\"./data/\",\n",
    "                           transform = transform,\n",
    "                           train = False)"
   ]
  },
  {
   "cell_type": "code",
   "execution_count": 4,
   "metadata": {},
   "outputs": [],
   "source": [
    "data_loader_train = torch.utils.data.DataLoader(dataset=data_train,\n",
    "                                                batch_size = 256,\n",
    "                                                shuffle = True)\n",
    "\n",
    "data_loader_test = torch.utils.data.DataLoader(dataset=data_test,\n",
    "                                               batch_size = 256,\n",
    "                                               shuffle = True)"
   ]
  },
  {
   "cell_type": "code",
   "execution_count": 5,
   "metadata": {},
   "outputs": [],
   "source": [
    "class LeNet(nn.Module):\n",
    "    def __init__(self):\n",
    "        super(LeNet, self).__init__()\n",
    "        self.conv1 = nn.Conv2d(1, 20, 5, 1)\n",
    "        self.conv2 = nn.Conv2d(20, 50, 5, 1)\n",
    "        self.fc1 = nn.Linear(4*4*50, 500)\n",
    "        self.fc2 = nn.Linear(500, 10)\n",
    "\n",
    "    def forward(self, x):\n",
    "        x = F.relu(self.conv1(x))\n",
    "        x = F.max_pool2d(x, 2, 2)\n",
    "        x = F.relu(self.conv2(x))\n",
    "        x = F.max_pool2d(x, 2, 2)\n",
    "        x = x.view(-1, 4*4*50)\n",
    "        x = F.relu(self.fc1(x))\n",
    "        x = self.fc2(x)\n",
    "        return x"
   ]
  },
  {
   "cell_type": "code",
   "execution_count": 6,
   "metadata": {},
   "outputs": [
    {
     "data": {
      "text/plain": [
       "LeNet(\n",
       "  (conv1): Conv2d(1, 20, kernel_size=(5, 5), stride=(1, 1))\n",
       "  (conv2): Conv2d(20, 50, kernel_size=(5, 5), stride=(1, 1))\n",
       "  (fc1): Linear(in_features=800, out_features=500, bias=True)\n",
       "  (fc2): Linear(in_features=500, out_features=10, bias=True)\n",
       ")"
      ]
     },
     "execution_count": 6,
     "metadata": {},
     "output_type": "execute_result"
    }
   ],
   "source": [
    "model = LeNet()\n",
    "model.to(device)"
   ]
  },
  {
   "cell_type": "code",
   "execution_count": 7,
   "metadata": {},
   "outputs": [],
   "source": [
    "def train_pso(model, train_data, test_data, epochs):\n",
    "    criterion = nn.CrossEntropyLoss()\n",
    "    optimizer = PSO(model)\n",
    "\n",
    "    for epoch in range(epochs):\n",
    "        # trainning\n",
    "#         best_loss = float('INF')\n",
    "        loss_history = np.zeros((5000, 1))\n",
    "        for batch_idx, (inp, target) in enumerate(train_data):\n",
    "            inp, target = inp.to(device), target.to(device)\n",
    "            inp, target = Variable(inp), Variable(target)\n",
    "            def _closure():\n",
    "                out = model(inp)\n",
    "                return criterion(out, target)\n",
    "            out = model(inp)\n",
    "            optimizer.step(_closure)\n",
    "            loss = optimizer.best_loss\n",
    "            loss_history[batch_idx] = loss\n",
    "            if (batch_idx%100 == 0):\n",
    "                print(\"%d Loss=%.3f\" % (epoch, np.mean(loss_history[np.where(loss_history)])))\n",
    "        # testing\n",
    "        correct_cnt, ave_loss = 0, 0\n",
    "        total_cnt = 0\n",
    "        for batch_idx, (x, target) in enumerate(test_data):\n",
    "            x, target = x.cuda(), target.cuda()\n",
    "            x, target = Variable(x, volatile=True), Variable(target, volatile=True)\n",
    "            out = model(x)\n",
    "            loss = criterion(out, target)\n",
    "            \n",
    "            _, pred_label = torch.max(out.data, 1)\n",
    "            total_cnt += x.data.size()[0]\n",
    "            correct_cnt += (pred_label == target.data).sum()\n",
    "            # smooth average\n",
    "\n",
    "            if (batch_idx+1) == len(test_data):\n",
    "                print ('==>>> epoch: {}, batch index: {}, acc: {:.3f}'.format(\n",
    "                    epoch, batch_idx+1, correct_cnt * 1.0 / total_cnt))"
   ]
  },
  {
   "cell_type": "code",
   "execution_count": null,
   "metadata": {},
   "outputs": [
    {
     "name": "stdout",
     "output_type": "stream",
     "text": [
      "0 Loss=36.983\n",
      "0 Loss=6.852\n",
      "0 Loss=5.960\n"
     ]
    },
    {
     "name": "stderr",
     "output_type": "stream",
     "text": [
      "/home/xuanchi/anaconda3/envs/music-py36/lib/python3.6/site-packages/ipykernel_launcher.py:26: UserWarning: volatile was removed and now has no effect. Use `with torch.no_grad():` instead.\n"
     ]
    },
    {
     "name": "stdout",
     "output_type": "stream",
     "text": [
      "==>>> epoch: 0, batch index: 40, acc: 0.086\n",
      "1 Loss=4.701\n",
      "1 Loss=4.701\n",
      "1 Loss=4.701\n",
      "==>>> epoch: 1, batch index: 40, acc: 0.195\n",
      "2 Loss=4.665\n",
      "2 Loss=4.665\n",
      "2 Loss=4.665\n",
      "==>>> epoch: 2, batch index: 40, acc: 0.207\n",
      "3 Loss=4.665\n",
      "3 Loss=4.665\n",
      "3 Loss=4.665\n",
      "==>>> epoch: 3, batch index: 40, acc: 0.175\n",
      "4 Loss=4.665\n",
      "4 Loss=4.665\n",
      "4 Loss=4.665\n",
      "==>>> epoch: 4, batch index: 40, acc: 0.218\n",
      "5 Loss=4.665\n",
      "5 Loss=4.665\n",
      "5 Loss=4.665\n",
      "==>>> epoch: 5, batch index: 40, acc: 0.103\n",
      "6 Loss=4.665\n",
      "6 Loss=4.665\n",
      "6 Loss=4.665\n",
      "==>>> epoch: 6, batch index: 40, acc: 0.184\n",
      "7 Loss=4.665\n",
      "7 Loss=4.665\n",
      "7 Loss=4.665\n",
      "==>>> epoch: 7, batch index: 40, acc: 0.145\n",
      "8 Loss=4.665\n",
      "8 Loss=4.574\n",
      "8 Loss=4.548\n",
      "==>>> epoch: 8, batch index: 40, acc: 0.223\n",
      "9 Loss=4.522\n",
      "9 Loss=4.522\n",
      "9 Loss=4.522\n",
      "==>>> epoch: 9, batch index: 40, acc: 0.204\n",
      "10 Loss=4.522\n",
      "10 Loss=4.522\n",
      "10 Loss=4.522\n",
      "==>>> epoch: 10, batch index: 40, acc: 0.224\n",
      "11 Loss=4.522\n",
      "11 Loss=4.522\n",
      "11 Loss=4.522\n",
      "==>>> epoch: 11, batch index: 40, acc: 0.226\n",
      "12 Loss=4.522\n",
      "12 Loss=4.522\n",
      "12 Loss=4.522\n",
      "==>>> epoch: 12, batch index: 40, acc: 0.213\n",
      "13 Loss=4.522\n",
      "13 Loss=4.522\n",
      "13 Loss=4.522\n",
      "==>>> epoch: 13, batch index: 40, acc: 0.210\n",
      "14 Loss=4.522\n",
      "14 Loss=4.522\n",
      "14 Loss=4.522\n",
      "==>>> epoch: 14, batch index: 40, acc: 0.210\n",
      "15 Loss=4.522\n",
      "15 Loss=4.522\n",
      "15 Loss=4.522\n",
      "==>>> epoch: 15, batch index: 40, acc: 0.223\n",
      "16 Loss=4.522\n",
      "16 Loss=4.522\n",
      "16 Loss=4.522\n",
      "==>>> epoch: 16, batch index: 40, acc: 0.214\n",
      "17 Loss=4.522\n",
      "17 Loss=4.522\n",
      "17 Loss=4.522\n",
      "==>>> epoch: 17, batch index: 40, acc: 0.079\n",
      "18 Loss=4.522\n",
      "18 Loss=4.522\n",
      "18 Loss=4.522\n",
      "==>>> epoch: 18, batch index: 40, acc: 0.226\n",
      "19 Loss=4.522\n",
      "19 Loss=4.522\n",
      "19 Loss=4.522\n",
      "==>>> epoch: 19, batch index: 40, acc: 0.226\n",
      "20 Loss=4.522\n",
      "20 Loss=4.522\n",
      "20 Loss=4.522\n",
      "==>>> epoch: 20, batch index: 40, acc: 0.225\n",
      "21 Loss=4.522\n",
      "21 Loss=4.522\n",
      "21 Loss=4.522\n",
      "==>>> epoch: 21, batch index: 40, acc: 0.176\n",
      "22 Loss=4.522\n",
      "22 Loss=4.522\n",
      "22 Loss=4.522\n",
      "==>>> epoch: 22, batch index: 40, acc: 0.225\n",
      "23 Loss=4.522\n",
      "23 Loss=4.522\n",
      "23 Loss=4.522\n",
      "==>>> epoch: 23, batch index: 40, acc: 0.142\n",
      "24 Loss=4.522\n",
      "24 Loss=4.522\n",
      "24 Loss=4.522\n",
      "==>>> epoch: 24, batch index: 40, acc: 0.213\n",
      "25 Loss=4.522\n",
      "25 Loss=4.522\n",
      "25 Loss=4.522\n",
      "==>>> epoch: 25, batch index: 40, acc: 0.210\n",
      "26 Loss=4.522\n",
      "26 Loss=4.522\n",
      "26 Loss=4.522\n",
      "==>>> epoch: 26, batch index: 40, acc: 0.224\n",
      "27 Loss=4.522\n",
      "27 Loss=4.522\n"
     ]
    }
   ],
   "source": [
    "train_pso(model, data_loader_train, data_loader_test, 1000)"
   ]
  },
  {
   "cell_type": "code",
   "execution_count": null,
   "metadata": {},
   "outputs": [],
   "source": []
  }
 ],
 "metadata": {
  "kernelspec": {
   "display_name": "Python [conda env:music-py36]",
   "language": "python",
   "name": "conda-env-music-py36-py"
  },
  "language_info": {
   "codemirror_mode": {
    "name": "ipython",
    "version": 3
   },
   "file_extension": ".py",
   "mimetype": "text/x-python",
   "name": "python",
   "nbconvert_exporter": "python",
   "pygments_lexer": "ipython3",
   "version": "3.6.9"
  }
 },
 "nbformat": 4,
 "nbformat_minor": 2
}

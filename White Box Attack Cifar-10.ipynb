{
 "cells": [
  {
   "cell_type": "markdown",
   "metadata": {},
   "source": [
    "# Demo - White Attack with Imagenet"
   ]
  },
  {
   "cell_type": "code",
   "execution_count": 1,
   "metadata": {},
   "outputs": [],
   "source": [
    "import numpy as np\n",
    "import json\n",
    "import os\n",
    "import sys\n",
    "import glob\n",
    "import time\n",
    "import torch\n",
    "import torch.nn as nn\n",
    "import torch.optim as optim\n",
    "\n",
    "import torchvision.utils\n",
    "from torchvision import models\n",
    "import torchvision.datasets as dsets\n",
    "import torchvision.transforms as transforms\n",
    "\n",
    "import torchattacks"
   ]
  },
  {
   "cell_type": "code",
   "execution_count": 2,
   "metadata": {},
   "outputs": [],
   "source": [
    "import matplotlib.pyplot as plt\n",
    "%matplotlib inline"
   ]
  },
  {
   "cell_type": "code",
   "execution_count": 3,
   "metadata": {},
   "outputs": [],
   "source": [
    "use_cuda = True\n",
    "device = torch.device(\"cuda:0\" if use_cuda else \"cpu\")"
   ]
  },
  {
   "cell_type": "code",
   "execution_count": 4,
   "metadata": {},
   "outputs": [],
   "source": [
    "class CIFAR_model(nn.Module):\n",
    "    def __init__(self):\n",
    "        super(CIFAR_model, self).__init__()\n",
    "        self.convblock = nn.Sequential(\n",
    "            # Block 1\n",
    "            nn.Conv2d(3,64,3),\n",
    "            nn.ReLU(),\n",
    "            nn.Conv2d(64,64,3),\n",
    "            nn.ReLU(),\n",
    "            nn.MaxPool2d(2,2),\n",
    "            # Block 2\n",
    "            nn.Conv2d(64,128,3),\n",
    "            nn.ReLU(),\n",
    "            nn.Conv2d(128,128,3),\n",
    "            nn.ReLU(),\n",
    "            nn.MaxPool2d(2,2),\n",
    "        )\n",
    "        self.fcblock = nn.Sequential(\n",
    "            # FC Block\n",
    "            nn.Linear(128*5*5, 256),\n",
    "            nn.ReLU(),\n",
    "            nn.Dropout(0.5),\n",
    "            nn.Linear(256, 256),\n",
    "            nn.ReLU(),\n",
    "            nn.Linear(256, 10),\n",
    "            nn.ReLU()\n",
    "        )\n",
    "    \n",
    "    def forward(self, x):\n",
    "        x = self.convblock(x)\n",
    "        x = x.view(-1, 128*5*5)\n",
    "        x = self.fcblock(x)\n",
    "        return x\n",
    "    \n",
    "    def __str__(self):\n",
    "        return \"CIFAR_model\""
   ]
  },
  {
   "cell_type": "code",
   "execution_count": 5,
   "metadata": {},
   "outputs": [
    {
     "data": {
      "text/plain": [
       "CIFAR_model(\n",
       "  (convblock): Sequential(\n",
       "    (0): Conv2d(3, 64, kernel_size=(3, 3), stride=(1, 1))\n",
       "    (1): ReLU()\n",
       "    (2): Conv2d(64, 64, kernel_size=(3, 3), stride=(1, 1))\n",
       "    (3): ReLU()\n",
       "    (4): MaxPool2d(kernel_size=2, stride=2, padding=0, dilation=1, ceil_mode=False)\n",
       "    (5): Conv2d(64, 128, kernel_size=(3, 3), stride=(1, 1))\n",
       "    (6): ReLU()\n",
       "    (7): Conv2d(128, 128, kernel_size=(3, 3), stride=(1, 1))\n",
       "    (8): ReLU()\n",
       "    (9): MaxPool2d(kernel_size=2, stride=2, padding=0, dilation=1, ceil_mode=False)\n",
       "  )\n",
       "  (fcblock): Sequential(\n",
       "    (0): Linear(in_features=3200, out_features=256, bias=True)\n",
       "    (1): ReLU()\n",
       "    (2): Dropout(p=0.5)\n",
       "    (3): Linear(in_features=256, out_features=256, bias=True)\n",
       "    (4): ReLU()\n",
       "    (5): Linear(in_features=256, out_features=10, bias=True)\n",
       "    (6): ReLU()\n",
       "  )\n",
       ")"
      ]
     },
     "execution_count": 5,
     "metadata": {},
     "output_type": "execute_result"
    }
   ],
   "source": [
    "model = CIFAR_model().cuda()\n",
    "model.load_state_dict(torch.load(\"./models/CIFAR_model.state\"))\n",
    "model.eval()"
   ]
  },
  {
   "cell_type": "code",
   "execution_count": 6,
   "metadata": {},
   "outputs": [
    {
     "name": "stdout",
     "output_type": "stream",
     "text": [
      "216\n",
      "216\n"
     ]
    }
   ],
   "source": [
    "d = []\n",
    "gt = []\n",
    "\n",
    "for filename in glob.glob('./confident_input/CIFAR_model/' + '*.data'):\n",
    "    img = torch.load(filename)\n",
    "    modelout = model(img[None,...])\n",
    "    INITCONF, TRUECLASS = torch.max(modelout, 1)\n",
    "    #print(TRUECLASS)\n",
    "    #print(CIFAR_CLASSES[TRUECLASS])\n",
    "    d.append(img)\n",
    "    gt.append(TRUECLASS)\n",
    "    \n",
    "print(len(d))\n",
    "print(len(gt))"
   ]
  },
  {
   "cell_type": "code",
   "execution_count": 7,
   "metadata": {},
   "outputs": [],
   "source": [
    "def imshow(img):\n",
    "    npimg = img.numpy()\n",
    "    fig = plt.figure(figsize = (5, 15))\n",
    "    plt.imshow(np.transpose(npimg,(1,2,0)))\n",
    "    #plt.title(title)\n",
    "    plt.show()"
   ]
  },
  {
   "cell_type": "code",
   "execution_count": 8,
   "metadata": {},
   "outputs": [],
   "source": [
    "CIFAR_CLASSES = [\"airplane\",\"automobile\",\"bird\",\"cat\",\"deer\",\"dog\",\"frog\",\"horse\",\"ship\",\"truck\"]"
   ]
  },
  {
   "cell_type": "markdown",
   "metadata": {},
   "source": [
    "## 1. Load Data"
   ]
  },
  {
   "cell_type": "code",
   "execution_count": 13,
   "metadata": {},
   "outputs": [
    {
     "name": "stdout",
     "output_type": "stream",
     "text": [
      "204\n",
      "0.2686840174374757\n",
      "tensor([25.5609], device='cuda:0')\n"
     ]
    }
   ],
   "source": [
    "# First white box attack BIM\n",
    "# change iters increase attack success rate but increase L2 loss\n",
    "# iter = 0 80\n",
    "\n",
    "BIM_time = []\n",
    "BIM_L2 = []\n",
    "BIM_output = []\n",
    "BIM_correct = 0\n",
    "#BIM = torchattacks.BIM(model, eps=4/255, alpha=1/255, iters=0)\n",
    "BIM = torchattacks.BIM(model, eps=4/255, alpha=1/255, iters=40)\n",
    "for i in range(len(d)):\n",
    "    t0 = time.time()\n",
    "    images = BIM(d[i][None,...], gt[i])\n",
    "    #print(gt[i])\n",
    "    dt = time.time() - t0\n",
    "    BIM_time.append(dt)\n",
    "    outputs = model(images)\n",
    "    \n",
    "    L2 = torch.norm(images.view(1,-1) - d[i].view(1,-1), dim=1)\n",
    "    #print(L2)\n",
    "    BIM_L2.append(L2)\n",
    "    \n",
    "    _, pre = torch.max(outputs.data, 1)\n",
    "    BIM_output.append(pre)\n",
    "    #print(pre)\n",
    "    if gt[i] != pre:\n",
    "        BIM_correct+=1\n",
    "        \n",
    "print(BIM_correct)\n",
    "average_time = np.sum(np.array(BIM_time))/len(d)\n",
    "average_L2 = np.sum(np.array(BIM_L2))/len(d)\n",
    "print(average_time)\n",
    "print(average_L2)"
   ]
  },
  {
   "cell_type": "code",
   "execution_count": 15,
   "metadata": {},
   "outputs": [
    {
     "name": "stdout",
     "output_type": "stream",
     "text": [
      "34\n",
      "0.07082464628749424\n",
      "tensor([14.1452], device='cuda:0')\n"
     ]
    }
   ],
   "source": [
    "# then try white box attack StepLL = torchattacks.StepLL(model, eps=4/255, alpha=1/255, iters=0)\n",
    "StepLL_time = []\n",
    "StepLL_L2 = []\n",
    "StepLL_output = []\n",
    "StepLL_correct = 0\n",
    "#BIM = torchattacks.BIM(model, eps=4/255, alpha=1/255, iters=0)\n",
    "StepLL = torchattacks.StepLL(model, eps=4/255, alpha=1/255, iters=10)\n",
    "for i in range(len(d)):\n",
    "    t0 = time.time()\n",
    "    images = StepLL(d[i][None,...], gt[i])\n",
    "    #print(gt[i])\n",
    "    dt = time.time() - t0\n",
    "    StepLL_time.append(dt)\n",
    "    outputs = model(images)\n",
    "    \n",
    "    L2 = torch.norm(images.view(1,-1) - d[i].view(1,-1), dim=1)\n",
    "    #print(L2)\n",
    "    StepLL_L2.append(L2)\n",
    "    \n",
    "    _, pre = torch.max(outputs.data, 1)\n",
    "    StepLL_output.append(pre)\n",
    "    #print(pre)\n",
    "    if gt[i] != pre:\n",
    "        StepLL_correct+=1\n",
    "        \n",
    "print(StepLL_correct)\n",
    "average_time = np.sum(np.array(StepLL_time))/len(d)\n",
    "average_L2 = np.sum(np.array(StepLL_L2))/len(d)\n",
    "print(average_time)\n",
    "print(average_L2)"
   ]
  },
  {
   "cell_type": "code",
   "execution_count": 16,
   "metadata": {},
   "outputs": [
    {
     "name": "stdout",
     "output_type": "stream",
     "text": [
      "216\n",
      "0.02826858891381158\n",
      "tensor([38.3447], device='cuda:0')\n"
     ]
    }
   ],
   "source": [
    "# then try white box attack RFGSM\n",
    "StepLL_time = []\n",
    "StepLL_L2 = []\n",
    "StepLL_output = []\n",
    "StepLL_correct = 0\n",
    "#BIM = torchattacks.BIM(model, eps=4/255, alpha=1/255, iters=0)\n",
    "RFGSM = torchattacks.RFGSM(model, eps=16/255, alpha=8/255, iters=5)\n",
    "for i in range(len(d)):\n",
    "    t0 = time.time()\n",
    "    images = RFGSM(d[i][None,...], gt[i])\n",
    "    #print(gt[i])\n",
    "    dt = time.time() - t0\n",
    "    StepLL_time.append(dt)\n",
    "    outputs = model(images)\n",
    "    \n",
    "    L2 = torch.norm(images.view(1,-1) - d[i].view(1,-1), dim=1)\n",
    "    #print(L2)\n",
    "    StepLL_L2.append(L2)\n",
    "    \n",
    "    _, pre = torch.max(outputs.data, 1)\n",
    "    StepLL_output.append(pre)\n",
    "    #print(pre)\n",
    "    if gt[i] != pre:\n",
    "        StepLL_correct+=1\n",
    "        \n",
    "print(StepLL_correct)\n",
    "average_time = np.sum(np.array(StepLL_time))/len(d)\n",
    "average_L2 = np.sum(np.array(StepLL_L2))/len(d)\n",
    "print(average_time)\n",
    "print(average_L2)"
   ]
  },
  {
   "cell_type": "code",
   "execution_count": 18,
   "metadata": {},
   "outputs": [
    {
     "name": "stdout",
     "output_type": "stream",
     "text": [
      "216\n",
      "0.24012919708534522\n",
      "tensor([37.1240], device='cuda:0')\n"
     ]
    }
   ],
   "source": [
    "# PGD = torchattacks.PGD(model, eps=0.3, alpha=2/255, iters=40)\n",
    "# then try white box attack RFGSM\n",
    "StepLL_time = []\n",
    "StepLL_L2 = []\n",
    "StepLL_output = []\n",
    "StepLL_correct = 0\n",
    "#BIM = torchattacks.BIM(model, eps=4/255, alpha=1/255, iters=0)\n",
    "PGD = torchattacks.PGD(model, eps=0.3, alpha=2/255, iters=40)\n",
    "for i in range(len(d)):\n",
    "    t0 = time.time()\n",
    "    images = PGD(d[i][None,...], gt[i])\n",
    "    #print(gt[i])\n",
    "    dt = time.time() - t0\n",
    "    StepLL_time.append(dt)\n",
    "    outputs = model(images)\n",
    "    \n",
    "    L2 = torch.norm(images.view(1,-1) - d[i].view(1,-1), dim=1)\n",
    "    #print(L2)\n",
    "    StepLL_L2.append(L2)\n",
    "    \n",
    "    _, pre = torch.max(outputs.data, 1)\n",
    "    StepLL_output.append(pre)\n",
    "    #print(pre)\n",
    "    if gt[i] != pre:\n",
    "        StepLL_correct+=1\n",
    "        \n",
    "print(StepLL_correct)\n",
    "average_time = np.sum(np.array(StepLL_time))/len(d)\n",
    "average_L2 = np.sum(np.array(StepLL_L2))/len(d)\n",
    "print(average_time)\n",
    "print(average_L2)"
   ]
  },
  {
   "cell_type": "code",
   "execution_count": 19,
   "metadata": {},
   "outputs": [
    {
     "name": "stdout",
     "output_type": "stream",
     "text": [
      "216\n",
      "0.24318546056747437\n",
      "tensor([37.3128], device='cuda:0')\n"
     ]
    }
   ],
   "source": [
    "# RPGD = torchattacks.PGD(model, eps=0.3, alpha=2/255, iters=40, random_start=True)\n",
    "StepLL_time = []\n",
    "StepLL_L2 = []\n",
    "StepLL_output = []\n",
    "StepLL_correct = 0\n",
    "#BIM = torchattacks.BIM(model, eps=4/255, alpha=1/255, iters=0)\n",
    "RPGD = torchattacks.PGD(model, eps=0.3, alpha=2/255, iters=40, random_start=True)\n",
    "for i in range(len(d)):\n",
    "    t0 = time.time()\n",
    "    images = RPGD(d[i][None,...], gt[i])\n",
    "    #print(gt[i])\n",
    "    dt = time.time() - t0\n",
    "    StepLL_time.append(dt)\n",
    "    outputs = model(images)\n",
    "    \n",
    "    L2 = torch.norm(images.view(1,-1) - d[i].view(1,-1), dim=1)\n",
    "    #print(L2)\n",
    "    StepLL_L2.append(L2)\n",
    "    \n",
    "    _, pre = torch.max(outputs.data, 1)\n",
    "    StepLL_output.append(pre)\n",
    "    #print(pre)\n",
    "    if gt[i] != pre:\n",
    "        StepLL_correct+=1\n",
    "        \n",
    "print(StepLL_correct)\n",
    "average_time = np.sum(np.array(StepLL_time))/len(d)\n",
    "average_L2 = np.sum(np.array(StepLL_L2))/len(d)\n",
    "print(average_time)\n",
    "print(average_L2)"
   ]
  },
  {
   "cell_type": "code",
   "execution_count": 20,
   "metadata": {},
   "outputs": [
    {
     "name": "stdout",
     "output_type": "stream",
     "text": [
      "203\n",
      "0.1070918771955702\n",
      "tensor([0.], device='cuda:0')\n"
     ]
    }
   ],
   "source": [
    "# DeepFool = torchattacks.DeepFool(model, iters=10)\n",
    "StepLL_time = []\n",
    "StepLL_L2 = []\n",
    "StepLL_output = []\n",
    "StepLL_correct = 0\n",
    "#BIM = torchattacks.BIM(model, eps=4/255, alpha=1/255, iters=0)\n",
    "DeepFool = torchattacks.DeepFool(model, iters=10)\n",
    "for i in range(len(d)):\n",
    "    t0 = time.time()\n",
    "    images = DeepFool(d[i][None,...], gt[i])\n",
    "    #print(gt[i])\n",
    "    dt = time.time() - t0\n",
    "    StepLL_time.append(dt)\n",
    "    outputs = model(images)\n",
    "    \n",
    "    L2 = torch.norm(images.view(1,-1) - d[i].view(1,-1), dim=1)\n",
    "    #print(L2)\n",
    "    StepLL_L2.append(L2)\n",
    "    \n",
    "    _, pre = torch.max(outputs.data, 1)\n",
    "    StepLL_output.append(pre)\n",
    "    #print(pre)\n",
    "    if gt[i] != pre:\n",
    "        StepLL_correct+=1\n",
    "        \n",
    "print(StepLL_correct)\n",
    "average_time = np.sum(np.array(StepLL_time))/len(d)\n",
    "average_L2 = np.sum(np.array(StepLL_L2))/len(d)\n",
    "print(average_time)\n",
    "print(average_L2)"
   ]
  },
  {
   "cell_type": "markdown",
   "metadata": {},
   "source": [
    "## END"
   ]
  },
  {
   "cell_type": "code",
   "execution_count": 19,
   "metadata": {},
   "outputs": [
    {
     "name": "stdout",
     "output_type": "stream",
     "text": [
      "tensor([4], device='cuda:0')\n",
      "deer\n"
     ]
    }
   ],
   "source": [
    "# test a deer\n",
    "modelout = model(data[None,...])\n",
    "INITCONF, TRUECLASS = torch.max(modelout, 1)\n",
    "print(TRUECLASS)\n",
    "print(CIFAR_CLASSES[TRUECLASS])"
   ]
  },
  {
   "cell_type": "code",
   "execution_count": 25,
   "metadata": {
    "scrolled": true
   },
   "outputs": [
    {
     "name": "stderr",
     "output_type": "stream",
     "text": [
      "Clipping input data to the valid range for imshow with RGB data ([0..1] for floats or [0..255] for integers).\n"
     ]
    },
    {
     "name": "stdout",
     "output_type": "stream",
     "text": [
      "0.04505348205566406\n",
      "tensor([2], device='cuda:0')\n",
      "bird\n"
     ]
    },
    {
     "data": {
      "image/png": "[encoded data removed]",
      "text/plain": [
       "<Figure size 360x1080 with 1 Axes>"
      ]
     },
     "metadata": {
      "needs_background": "light"
     },
     "output_type": "display_data"
    }
   ],
   "source": [
    "t0 = time.time()\n",
    "images = BIM(data[None,...], TRUECLASS[...])\n",
    "dt = time.time() - t0\n",
    "print(dt)\n",
    "#labels = labels.to(device)\n",
    "outputs = model(images)\n",
    "\n",
    "_, pre = torch.max(outputs.data, 1)\n",
    "print(pre)\n",
    "print(CIFAR_CLASSES[pre])\n",
    "imshow(images.squeeze().cpu())"
   ]
  }
 ],
 "metadata": {
  "kernelspec": {
   "display_name": "Python [conda env:GCN]",
   "language": "python",
   "name": "conda-env-GCN-py"
  },
  "language_info": {
   "codemirror_mode": {
    "name": "ipython",
    "version": 3
   },
   "file_extension": ".py",
   "mimetype": "text/x-python",
   "name": "python",
   "nbconvert_exporter": "python",
   "pygments_lexer": "ipython3",
   "version": "3.5.6"
  }
 },
 "nbformat": 4,
 "nbformat_minor": 2
}
